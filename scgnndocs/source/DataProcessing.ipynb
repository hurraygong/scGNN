{
 "cells": [
  {
   "cell_type": "markdown",
   "source": [
    "# Data preprocessing"
   ],
   "metadata": {
    "collapsed": false,
    "pycharm": {
     "name": "#%% md\n"
    }
   }
  },
  {
   "cell_type": "markdown",
   "source": [
    "Preprocessing dataset for scGNN supports that for the following two generic file formats `10X` or `CSV`.  We can use command to process data, such as <font color=red size=3>`python3 -W ignore PreprocessingscGNN.py --parameters`</font>.\n",
    "We take two steps to generate scGNN model input data in the module [`PreprocessingscGNN.py`](). \n",
    "       \n",
    "* Step1: Start filter and generating CSV\n",
    "* Step2: Start infer LTMG from CSV"
   ],
   "metadata": {
    "collapsed": false,
    "pycharm": {
     "name": "#%% md\n"
    }
   }
  },
  {
   "cell_type": "markdown",
   "source": [
    "The parameter *nonfilterCSVTag* and *noninferLTMGTag* is inputted by manual. All default are `False`. \n",
    "*args.filterCSVTag* and *args.inferLTMGTag* values are as follows.\n",
    "``` python\n",
    "args.filterCSVTag = not args.nonfilterCSVTag  \n",
    "args.inferLTMGTag = not args.noninferLTMGTag\n",
    "```"
   ],
   "metadata": {
    "collapsed": false,
    "pycharm": {
     "name": "#%% md\n"
    }
   }
  },
  {
   "cell_type": "markdown",
   "source": [
    "**Step1: Start filter and generating CSV**"
   ],
   "metadata": {
    "collapsed": false
   }
  },
  {
   "cell_type": "markdown",
   "source": [
    "``` python\n",
    "if args.filterCSVTag:\n",
    "    if args.filetype == '10X':\n",
    "        expressionFilename = args.LTMGDir+args.datasetName+'/'+args.expressionFile\n",
    "        preprocessing10X(args.datasetDir, args.datasetName, expressionFilename, args.transform, args.cellRatio, args.geneRatio, args.geneCriteria, args.geneSelectnum, args.sparseOutTag) \n",
    "    elif args.filetype == 'CSV':\n",
    "        expressionFilename = args.LTMGDir+args.expressionFile\n",
    "        preprocessingCSV(args.datasetDir, args.datasetName, expressionFilename, args.delim, args.transform, args.cellRatio, args.geneRatio, args.geneCriteria, args.geneSelectnum, args.transpose, args.tabuCol)\n",
    " ```           "
   ],
   "metadata": {
    "collapsed": false,
    "pycharm": {
     "name": "#%% md\n"
    }
   }
  },
  {
   "cell_type": "markdown",
   "source": [
    "For the step1, if the file format is `10X`, the data will be processed though the function <font color=blue>`preprocessing10X`</font>. The necessary parameters are as follows.\n",
    "<font size= 2>\n",
    "+ ***args.datasetDir:*** str. The Dataset path,   \n",
    "+ ***args.datasetName:***   str. The DatasetName, also a folder name which the files for proce are in.\n",
    "+ ***expressionFilename:***  str. Row is genes, column is cell.\n",
    "+ ***args.transform:*** whether to transform the gene expression value `x`. default `log`, *log(x+1)*\n",
    "+ ***args.cellRatio :***  Include features detected in at least this many cells. Will subset the counts matrix as well. To reintroduce excluded features, create a new object with a lower cutoff.\n",
    "+ ***args.geneRatio :***  Include cells where at least this many features are detected\n",
    "+ ***args.geneCriteria :***  How to choose top variable features;\n",
    "+ ***args.geneSelectnum :*** Number of features to select as top variable features;\n",
    "+ ***args.sparseOutTag:*** whether to use sparse coding or not. The input parameter is `--nonsparseOutTag`,default `False`. `args.sparseOutTag = not nonsparseOutTag`\n",
    "\n",
    "</font>\n",
    "  "
   ],
   "metadata": {
    "collapsed": false,
    "pycharm": {
     "name": "#%% md\n"
    }
   }
  },
  {
   "cell_type": "markdown",
   "source": [
    "    \n",
    "    preprocessingCSV(args.datasetDir, args.datasetName, expressionFilename, args.delim, args.transform, args.cellRatio, args.geneRatio, args.geneCriteria, args.geneSelectnum, args.transpose, args.tabuCol)"
   ],
   "metadata": {
    "collapsed": false,
    "pycharm": {
     "name": "#%% md\n"
    }
   }
  },
  {
   "cell_type": "markdown",
   "source": [
    "<font size= 2>\n",
    "\n",
    "+ ***args.delim:***  File delim type, comma or space: default(comma)\n",
    "+ ***args.transpose:*** whether transpose gene expression or not \n",
    "+ ***args.tabuCol:***  Not use some columns and setting their names split by ,default `''`\n",
    "\n",
    "</font>\n",
    " "
   ],
   "metadata": {
    "collapsed": false
   }
  },
  {
   "cell_type": "markdown",
   "source": [
    "**Step2: Start infer LTMG from CSV**   \n",
    "        "
   ],
   "metadata": {
    "collapsed": false
   }
  },
  {
   "cell_type": "markdown",
   "source": [
    "``` python\n",
    "if args.inferLTMGTag:\n",
    "    print('Step2: Start infer LTMG from CSV')\n",
    "    if args.filetype == '10X':\n",
    "        ltmgdir = args.LTMGDir+args.datasetName+'/'\n",
    "    elif args.filetype == 'CSV':\n",
    "        ltmgdir = args.LTMGDir\n",
    "    runLTMG(ltmgdir+args.expressionFile, ltmgdir)\n",
    " ```"
   ],
   "metadata": {
    "collapsed": false
   }
  },
  {
   "cell_type": "markdown",
   "source": [
    "Left-Trunctruncated-Mixed-Gaussian(LTMG) model is a novel statistical modeling of transcriptional expression states in single-cell RNA-Seq data. LTMG is build on `R`. This is the example used by `python`."
   ],
   "metadata": {
    "collapsed": false,
    "pycharm": {
     "name": "#%% md\n",
     "is_executing": false
    }
   }
  },
  {
   "cell_type": "code",
   "execution_count": null,
   "outputs": [],
   "source": [
    "import rpy2.robjects as robjects\n",
    "from rpy2.robjects.packages import importr\n",
    "importr('scGNNLTMG')\n",
    "\n",
    "def runLTMG(expressionFile,ltmgFolder):\n",
    "    \n",
    "    robjects.globalenv['expressionFile'] = expressionFile\n",
    "    robjects.globalenv['ltmgFolder'] = ltmgFolder\n",
    "    \n",
    "    robjects.r('''  \n",
    "        x <- read.csv(expressionFile,header = T,row.names = 1,check.names = F)\n",
    "        object <- CreateLTMGObject(x)\n",
    "        object <-RunLTMG(object,Gene_use = 'all')\n",
    "        WriteSparse(object,path=ltmgFolder,gene.name=FALSE, cell.name=FALSE)           \n",
    "    ''')"
   ],
   "metadata": {
    "collapsed": false,
    "pycharm": {
     "name": "#%% \n"
    }
   }
  },
  {
   "cell_type": "markdown",
   "source": [
    "## scGNN celltype cluster"
   ],
   "metadata": {
    "collapsed": false,
    "pycharm": {
     "name": "#%% md\n"
    }
   }
  }
 ],
 "metadata": {
  "kernelspec": {
   "name": "python3",
   "language": "python",
   "display_name": "Python 3"
  },
  "language_info": {
   "codemirror_mode": {
    "name": "ipython",
    "version": 2
   },
   "file_extension": ".py",
   "mimetype": "text/x-python",
   "name": "python",
   "nbconvert_exporter": "python",
   "pygments_lexer": "ipython2",
   "version": "2.7.6"
  },
  "pycharm": {
   "stem_cell": {
    "cell_type": "raw",
    "source": [
     "  "
    ],
    "metadata": {
     "collapsed": false
    }
   }
  }
 },
 "nbformat": 4,
 "nbformat_minor": 0
}