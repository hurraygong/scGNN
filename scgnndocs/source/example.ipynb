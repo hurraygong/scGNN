{
 "cells": [
  {
   "cell_type": "markdown",
   "source": [
    "# Quikly Run scGNN"
   ],
   "metadata": {
    "collapsed": false
   }
  },
  {
   "cell_type": "markdown",
   "source": [
    "scGNN: a novel graph neural network model for single-cell transcriptome analysis. This is an example of the scGNN, just for quickly running it. If see detail process, view the preprocessing, advanced, downstream file. In this part, we go through 3 steps to show the run process.\n",
    "\n",
    "        1.Install scGNN\n",
    "        2.Download data\n",
    "        3.Run scGNN"
   ],
   "metadata": {
    "collapsed": false
   }
  },
  {
   "cell_type": "markdown",
   "source": [
    "## 1. Install scGNN "
   ],
   "metadata": {
    "collapsed": false,
    "pycharm": {
     "name": "#%% md\n"
    }
   }
  },
  {
   "cell_type": "markdown",
   "source": [
    "You can install scGNN through source, download it from [git](https://github.com/scgnn/scGNN.git). \n",
    "```bash\n",
    "git clone https://github.com/scgnn/scGNN.git\n",
    "cd scGNN\n",
    "```"
   ],
   "metadata": {
    "collapsed": false,
    "pycharm": {
     "name": "#%% md\n"
    }
   }
  },
  {
   "cell_type": "markdown",
   "source": [
    "## 2. Download data"
   ],
   "metadata": {
    "collapsed": false,
    "pycharm": {
     "name": "#%% md\n"
    }
   }
  },
  {
   "cell_type": "markdown",
   "source": [
    "scGNN can accepting two format scRNA datasets, 10X and CSV. The example dataset 30K liver cells is 10X format. You can download it \n",
    "https://data.humancellatlas.org/project-assets/project-matrices/4d6f6c96-2a83-43d8-8fe1-0f53bffd4674.homo_sapiens.mtx.zip or using wget"
   ],
   "metadata": {
    "collapsed": false,
    "pycharm": {
     "name": "#%% md\n"
    }
   }
  },
  {
   "cell_type": "markdown",
   "source": [
    "    Wget https://data.humancellatlas.org/project-assets/project-matrices/4d6f6c96-2a83-43d8-8fe1-0f53bffd4674.homo_sapiens.mtx.zip localdatasetPath\n",
    "    unzip localdatasetPath/4d6f6c96-2a83-43d8-8fe1-0f53bffd4674.homo_sapiens.mtx.zip unzipdatapath"
   ],
   "metadata": {
    "collapsed": false,
    "pycharm": {
     "name": "#%% md\n",
     "is_executing": false
    }
   }
  },
  {
   "cell_type": "markdown",
   "source": [
    "The unzip file is a folder, such as named `481193cb-c021-4e04-b477-0b7cfef4614b.mtx`, including `barcodes.tsv.gz`, `genes.tsv.gz`, `features.tsv.gz`, `cells.tsv.gz`, `matrix.mtx.gz`"
   ],
   "metadata": {
    "collapsed": false,
    "pycharm": {
     "name": "#%% md\n"
    }
   }
  },
  {
   "cell_type": "markdown",
   "source": [
    "## 3. Run scGNN"
   ],
   "metadata": {
    "collapsed": false,
    "pycharm": {
     "name": "#%% md\n"
    }
   }
  },
  {
   "cell_type": "markdown",
   "source": [
    "We can use command python *.py to run, and the parameters can see with --help or -h. There are two steps to get the results. \n",
    "\n",
    "    3.1 Data preprocessing\n",
    "    3.2 Run model"
   ],
   "metadata": {
    "collapsed": false,
    "pycharm": {
     "name": "#%% md\n"
    }
   }
  },
  {
   "cell_type": "markdown",
   "source": [
    "##### 3.1 Data preprocessing, run command to preprocessing data(if format of dataset is '10X')"
   ],
   "metadata": {
    "collapsed": false,
    "pycharm": {
     "name": "#%% md\n",
     "is_executing": false
    }
   }
  },
  {
   "cell_type": "markdown",
   "source": [
    "if format of dataset is `10X`, the command to preprocessing data is: \n",
    "\n",
    "    python3 -W ignore PreprocessingscGNN.py --datasetName 481193cb-c021-4e04-b477-0b7cfef4614b.mtx --datasetDir datasetPath --LTMGDir datasetePath\n",
    "if format of dataset is `CSV`, the command to preprocessing data is:  \n",
    "  \n",
    "    python3 -W ignore PreprocessingscGNN.py --datasetName csv_filename --datasetDir csvfilePath --filetype CSV"
   ],
   "metadata": {
    "collapsed": false,
    "pycharm": {
     "name": "#%% md\n"
    }
   }
  },
  {
   "cell_type": "markdown",
   "source": [
    "##### 3.2 run scGNN\n",
    "    python3 -W ignore scGNN.py --datasetName e7448a34-b33d-41de-b422-4c09bfeba96b.mtx --LTMGDir datasetPath --outputDir outputdir/"
   ],
   "metadata": {
    "collapsed": false,
    "pycharm": {
     "name": "#%% md\n",
     "is_executing": false
    }
   }
  }
 ],
 "metadata": {
  "kernelspec": {
   "name": "python3",
   "language": "python",
   "display_name": "Python 3"
  },
  "language_info": {
   "codemirror_mode": {
    "name": "ipython",
    "version": 2
   },
   "file_extension": ".py",
   "mimetype": "text/x-python",
   "name": "python",
   "nbconvert_exporter": "python",
   "pygments_lexer": "ipython2",
   "version": "2.7.6"
  },
  "pycharm": {
   "stem_cell": {
    "cell_type": "raw",
    "source": [],
    "metadata": {
     "collapsed": false
    }
   }
  }
 },
 "nbformat": 4,
 "nbformat_minor": 0
}